{
 "cells": [
  {
   "cell_type": "code",
   "execution_count": 3,
   "metadata": {},
   "outputs": [
    {
     "name": "stdout",
     "output_type": "stream",
     "text": [
      "normal\n",
      "0.6\n",
      "0.5\n",
      "{'prob': 0.3, 'prev': None}\n",
      "normal\n",
      "0.4\n",
      "0.1\n",
      "{'prob': 0.04000000000000001, 'prev': None}\n"
     ]
    }
   ],
   "source": [
    "obs     = ('normal', 'cold', 'dizzy')\n",
    "states  = ('Healthy', 'Fever')\n",
    "\n",
    "start_p = {'Healthy': 0.6, 'Fever': 0.4}\n",
    "\n",
    "trans_p = {'Healthy' : {'Healthy': 0.7, 'Fever': 0.3},\n",
    "           'Fever'   : {'Healthy': 0.4, 'Fever': 0.6}\n",
    "          }\n",
    "\n",
    "emit_p = {'Healthy' : {'normal': 0.5, 'cold': 0.4, 'dizzy': 0.1},\n",
    "          'Fever'   : {'normal': 0.1, 'cold': 0.3, 'dizzy': 0.6}\n",
    "         }\n",
    "\n",
    "#V = [{}]\n",
    "for st in states:\n",
    "    print(obs[0])\n",
    "    print(start_p[st])\n",
    "    print(emit_p[st][obs[0]])\n",
    "    V[0][st] = {\"prob\": start_p[st] * emit_p[st][obs[0]], \"prev\": None}\n",
    "    print(V[0][st])"
   ]
  },
  {
   "cell_type": "code",
   "execution_count": 2,
   "metadata": {},
   "outputs": [
    {
     "data": {
      "text/plain": [
       "[{'Healthy': {'prob': 0.3, 'prev': None},\n",
       "  'Fever': {'prob': 0.04000000000000001, 'prev': None}}]"
      ]
     },
     "execution_count": 2,
     "metadata": {},
     "output_type": "execute_result"
    }
   ],
   "source": [
    "V"
   ]
  },
  {
   "cell_type": "code",
   "execution_count": null,
   "metadata": {
    "collapsed": true
   },
   "outputs": [],
   "source": []
  }
 ],
 "metadata": {
  "kernelspec": {
   "display_name": "Python 3",
   "language": "python",
   "name": "python3"
  },
  "language_info": {
   "codemirror_mode": {
    "name": "ipython",
    "version": 3
   },
   "file_extension": ".py",
   "mimetype": "text/x-python",
   "name": "python",
   "nbconvert_exporter": "python",
   "pygments_lexer": "ipython3",
   "version": "3.6.7"
  }
 },
 "nbformat": 4,
 "nbformat_minor": 2
}
