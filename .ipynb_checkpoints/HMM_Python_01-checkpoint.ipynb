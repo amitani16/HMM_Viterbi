{
 "cells": [
  {
   "cell_type": "markdown",
   "metadata": {},
   "source": [
    "# HMM-Python参考web page\n",
    "\n",
    "- [pythonでHMMのパラメータ推定実装](https://qiita.com/ta-ka/items/3e5306d0432c05909992)\n",
    "- [隠れマルコフモデルを実現するPythonライブラリ hmmlearnの使い方](https://qiita.com/ryo-ma/items/ac26c78cf8ff99bc329c)\n",
    "- [Python 隠れマルコフモデル用ライブラリ hmmlearn の使い方メモ](http://keik-117.hatenablog.com/entry/2016/07/05/213903)\n",
    "- [【技術解説】マルコフモデルと隠れマルコフモデル](https://mieruca-ai.com/ai/markov_model_hmm/#toc_4)\n",
    "- [隠れマルコフモデル（HMM）について](http://kento1109.hatenablog.com/entry/2017/12/15/160315)\n",
    "- [隠れマルコフモデルの例](https://satomacoto.blogspot.com/2008/07/blog-post.html)\n",
    "- [ビタビアルゴリズム【入門】具体例で分かりやすく解説！（Viterbi）](https://spjai.com/viterbi-algorithm/)\n",
    "- [【技術解説】HMMに基づいたViterbiアルゴリズムによる解推定手法(例題つき)](https://mieruca-ai.com/ai/viterbi_algorithm/)\n",
    "- [Viterbi アルゴリズム（最適経路解法）](https://qiita.com/kkdd/items/6cbd949d03bc56e33e8e)\n",
    "- [ビタビアルゴリズムをpythonで実装してみた](https://yuutookun.hatenablog.com/entry/2012/10/07/153101)\n",
    "- [HMM(Hidden Markov Model,隠れマルコフモデル)](http://unicorn.ike.tottori-u.ac.jp/murakami/doctor/node7.html)\n",
    "- [ビタビ・アルゴリズム](http://www.mnc.toho-u.ac.jp/v-lab/yobology/viterbi/viterbi.htm)\n",
    "- []()"
   ]
  },
  {
   "cell_type": "code",
   "execution_count": null,
   "metadata": {
    "collapsed": true
   },
   "outputs": [],
   "source": []
  }
 ],
 "metadata": {
  "kernelspec": {
   "display_name": "Python 3",
   "language": "python",
   "name": "python3"
  },
  "language_info": {
   "codemirror_mode": {
    "name": "ipython",
    "version": 3
   },
   "file_extension": ".py",
   "mimetype": "text/x-python",
   "name": "python",
   "nbconvert_exporter": "python",
   "pygments_lexer": "ipython3",
   "version": "3.6.3"
  }
 },
 "nbformat": 4,
 "nbformat_minor": 2
}
